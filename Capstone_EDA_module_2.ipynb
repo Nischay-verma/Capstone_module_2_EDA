{
  "nbformat": 4,
  "nbformat_minor": 0,
  "metadata": {
    "colab": {
      "private_outputs": true,
      "provenance": [],
      "collapsed_sections": [
        "vncDsAP0Gaoa",
        "yQaldy8SH6Dl",
        "PH-0ReGfmX4f",
        "mDgbUHAGgjLW",
        "O_i_v8NEhb9l",
        "HhfV-JJviCcP",
        "Y3lxredqlCYt",
        "3RnN4peoiCZX",
        "x71ZqKXriCWQ",
        "7hBIi_osiCS2",
        "JlHwYmJAmNHm",
        "35m5QtbWiB9F",
        "PoPl-ycgm1ru",
        "H0kj-8xxnORC",
        "nA9Y7ga8ng1Z",
        "PBTbrJXOngz2",
        "u3PMJOP6ngxN",
        "dauF4eBmngu3",
        "bKJF3rekwFvQ",
        "MSa1f5Uengrz",
        "GF8Ens_Soomf",
        "0wOQAZs5pc--",
        "K5QZ13OEpz2H",
        "lQ7QKXXCp7Bj",
        "448CDAPjqfQr",
        "KSlN3yHqYklG",
        "t6dVpIINYklI",
        "ijmpgYnKYklI",
        "-JiQyfWJYklI",
        "EM7whBJCYoAo",
        "fge-S5ZAYoAp",
        "85gYPyotYoAp",
        "RoGjAbkUYoAp",
        "4Of9eVA-YrdM",
        "iky9q4vBYrdO",
        "F6T5p64dYrdO",
        "y-Ehk30pYrdP",
        "bamQiAODYuh1",
        "QHF8YVU7Yuh3",
        "GwzvFGzlYuh3",
        "qYpmQ266Yuh3",
        "OH-pJp9IphqM",
        "bbFf2-_FphqN",
        "_ouA3fa0phqN",
        "Seke61FWphqN",
        "PIIx-8_IphqN",
        "t27r6nlMphqO",
        "r2jJGEOYphqO",
        "b0JNsNcRphqO",
        "BZR9WyysphqO",
        "jj7wYXLtphqO",
        "eZrbJ2SmphqO",
        "rFu4xreNphqO",
        "YJ55k-q6phqO",
        "gCFgpxoyphqP",
        "OVtJsKN_phqQ",
        "lssrdh5qphqQ",
        "U2RJ9gkRphqQ",
        "1M8mcRywphqQ",
        "tgIPom80phqQ",
        "JMzcOPDDphqR",
        "x-EpHcCOp1ci",
        "X_VqEhTip1ck",
        "8zGJKyg5p1ck",
        "PVzmfK_Ep1ck",
        "n3dbpmDWp1ck",
        "ylSl6qgtp1ck",
        "ZWILFDl5p1ck",
        "M7G43BXep1ck",
        "Ag9LCva-p1cl",
        "E6MkPsBcp1cl",
        "2cELzS2fp1cl",
        "3MPXvC8up1cl",
        "NC_X3p0fY2L0",
        "UV0SzAkaZNRQ",
        "YPEH6qLeZNRQ",
        "q29F0dvdveiT",
        "EXh0U9oCveiU",
        "22aHeOlLveiV",
        "JcMwzZxoAimU",
        "8G2x9gOozGDZ",
        "gCX9965dhzqZ",
        "gIfDvo9L0UH2"
      ],
      "include_colab_link": true
    },
    "kernelspec": {
      "name": "python3",
      "display_name": "Python 3"
    },
    "language_info": {
      "name": "python"
    }
  },
  "cells": [
    {
      "cell_type": "markdown",
      "metadata": {
        "id": "view-in-github",
        "colab_type": "text"
      },
      "source": [
        "<a href=\"https://colab.research.google.com/github/Nischay-verma/Capstone_module_2_EDA/blob/main/Capstone_EDA_module_2.ipynb\" target=\"_parent\"><img src=\"https://colab.research.google.com/assets/colab-badge.svg\" alt=\"Open In Colab\"/></a>"
      ]
    },
    {
      "cell_type": "markdown",
      "source": [
        "# **Project Name**    - AirBnb Bookings Analysis\n",
        "\n"
      ],
      "metadata": {
        "id": "vncDsAP0Gaoa"
      }
    },
    {
      "cell_type": "markdown",
      "source": [
        "##### **Project Type**    - Exploratory Data Analysis\n",
        "##### **Contribution**    - Individual\n",
        "\n",
        "##### **Name - Nischay Verma**"
      ],
      "metadata": {
        "id": "beRrZCGUAJYm"
      }
    },
    {
      "cell_type": "markdown",
      "source": [
        "# **Project Summary -**"
      ],
      "metadata": {
        "id": "FJNUwmbgGyua"
      }
    },
    {
      "cell_type": "markdown",
      "source": [
        "* The purpose of the analysis: understanding the factors that influence Airbnb prices in New York City, or identifying patterns of all variables and Our analysis provides useful information for travelers and hosts in the city and also provides some best insights for Airbnb business.\n",
        "\n",
        "* This project involved exploring and cleaning a dataset to prepare it for analysis. The data exploration process involved identifying and understanding the characteristics of the data, such as the data types, missing values, and distributions of values. The data cleaning process involved identifying and addressing any issues or inconsistencies in the data, such as errors, missing values, or duplicate records and remove outliers.\n",
        "\n",
        "* Through this process, we were able to identify and fix any issues with the data, and ensure that it was ready for further analysis. This is an important step in any data analysis project, as it allows us to work with high-quality data and avoid any potential biases or errors that could affect the results. The clean and prepared data can now be used to answer specific research.\n",
        "\n",
        "* Once the data has been cleaned and prepared, now begin exploring and summarizing it with describe the data and creating visualizations, and identifying patterns and trends in the data. in explore the data, may develop the relationships between different variables or the underlying causes of certain patterns or trends and other methods.\n",
        "\n",
        "* using data visualization to explore and understand patterns in Airbnb data. We created various graphs and charts to visualize the data, and wrote observations and insights below each one to help us better understand the data and identify useful insights and patterns.\n"
      ],
      "metadata": {
        "id": "F6v_1wHtG2nS"
      }
    },
    {
      "cell_type": "markdown",
      "source": [
        "# **GitHub Link -**"
      ],
      "metadata": {
        "id": "w6K7xa23Elo4"
      }
    },
    {
      "cell_type": "markdown",
      "source": [
        "**GitHub Link :** https://github.com/Nischay-verma/Capstone_module_2_EDA"
      ],
      "metadata": {
        "id": "h1o69JH3Eqqn"
      }
    },
    {
      "cell_type": "markdown",
      "source": [
        "# **Problem Statement**\n"
      ],
      "metadata": {
        "id": "yQaldy8SH6Dl"
      }
    },
    {
      "cell_type": "markdown",
      "source": [
        "The Airbnb dataset reveals a variety of business challenges that need to be addressed. These challenges include optimizing pricing strategies, predicting demand, enhancing customer experiences, detecting fraudulent activities, expanding into new markets, retaining hosts, managing inventory, analyzing competition, ensuring data security and privacy, and promoting sustainability. Leveraging data-driven insights to tackle these issues is crucial for improving Airbnb's operational efficiency, boosting revenue, and providing an exceptional experience for both hosts and guests.\n"
      ],
      "metadata": {
        "id": "DpeJGUA3kjGy"
      }
    },
    {
      "cell_type": "markdown",
      "source": [
        "#### **Define Your Business Objective?**"
      ],
      "metadata": {
        "id": "PH-0ReGfmX4f"
      }
    },
    {
      "cell_type": "markdown",
      "source": [
        "**Answer:**\n",
        "\n",
        "The business objective for analyzing the Airbnb dataset is to leverage data-driven insights to enhance operational efficiency, maximize revenue, and improve the user experience for both hosts and guests. This involves optimizing pricing strategies, forecasting demand, enhancing customer experiences, detecting fraud, expanding into new markets, retaining hosts, managing inventory, analyzing competition, ensuring data security and privacy, and promoting sustainability. Addressing these objectives will help Airbnb achieve sustainable growth and maintain a competitive edge in the market."
      ],
      "metadata": {
        "id": "PhDvGCAqmjP1"
      }
    },
    {
      "cell_type": "markdown",
      "source": [
        "# **General Guidelines** : -  "
      ],
      "metadata": {
        "id": "mDgbUHAGgjLW"
      }
    },
    {
      "cell_type": "markdown",
      "source": [
        "1.   Well-structured, formatted, and commented code is required.\n",
        "2.   Exception Handling, Production Grade Code & Deployment Ready Code will be a plus. Those students will be awarded some additional credits.\n",
        "     \n",
        "     The additional credits will have advantages over other students during Star Student selection.\n",
        "       \n",
        "             [ Note: - Deployment Ready Code is defined as, the whole .ipynb notebook should be executable in one go\n",
        "                       without a single error logged. ]\n",
        "\n",
        "3.   Each and every logic should have proper comments.\n",
        "4. You may add as many number of charts you want. Make Sure for each and every chart the following format should be answered.\n",
        "        \n",
        "\n",
        "```\n",
        "# Chart visualization code\n",
        "```\n",
        "            \n",
        "\n",
        "*   Why did you pick the specific chart?\n",
        "*   What is/are the insight(s) found from the chart?\n",
        "* Will the gained insights help creating a positive business impact?\n",
        "Are there any insights that lead to negative growth? Justify with specific reason.\n",
        "\n",
        "5. You have to create at least 20 logical & meaningful charts having important insights.\n",
        "\n",
        "\n",
        "[ Hints : - Do the Vizualization in  a structured way while following \"UBM\" Rule.\n",
        "\n",
        "U - Univariate Analysis,\n",
        "\n",
        "B - Bivariate Analysis (Numerical - Categorical, Numerical - Numerical, Categorical - Categorical)\n",
        "\n",
        "M - Multivariate Analysis\n",
        " ]\n",
        "\n",
        "\n",
        "\n"
      ],
      "metadata": {
        "id": "ZrxVaUj-hHfC"
      }
    },
    {
      "cell_type": "markdown",
      "source": [
        "# ***Let's Begin !***"
      ],
      "metadata": {
        "id": "O_i_v8NEhb9l"
      }
    },
    {
      "cell_type": "markdown",
      "source": [
        "## ***1. Know Your Data***"
      ],
      "metadata": {
        "id": "HhfV-JJviCcP"
      }
    },
    {
      "cell_type": "markdown",
      "source": [
        "### Import Libraries"
      ],
      "metadata": {
        "id": "Y3lxredqlCYt"
      }
    },
    {
      "cell_type": "code",
      "source": [
        "# Import Libraries\n",
        "import pandas as pd\n",
        "import numpy as np\n",
        "import matplotlib.pyplot as plt\n",
        "import seaborn as sns\n"
      ],
      "metadata": {
        "id": "M8Vqi-pPk-HR"
      },
      "execution_count": null,
      "outputs": []
    },
    {
      "cell_type": "markdown",
      "source": [
        "### Dataset Loading"
      ],
      "metadata": {
        "id": "3RnN4peoiCZX"
      }
    },
    {
      "cell_type": "code",
      "source": [
        "# Load Dataset\n",
        "df = pd.read_csv('https://raw.githubusercontent.com/Nischay-verma/Capstone_module_2_EDA/main/Airbnb%20NYC%202019.csv') # load the raw file of data from github repository\n"
      ],
      "metadata": {
        "id": "4CkvbW_SlZ_R"
      },
      "execution_count": null,
      "outputs": []
    },
    {
      "cell_type": "markdown",
      "source": [
        "### Dataset First View"
      ],
      "metadata": {
        "id": "x71ZqKXriCWQ"
      }
    },
    {
      "cell_type": "code",
      "source": [
        "# dataset first look\n",
        "df.head(10) # display the first 10 rows of the dataset"
      ],
      "metadata": {
        "id": "q01CiZ7ELKFV"
      },
      "execution_count": null,
      "outputs": []
    },
    {
      "cell_type": "markdown",
      "source": [
        "### Dataset Rows & Columns count"
      ],
      "metadata": {
        "id": "7hBIi_osiCS2"
      }
    },
    {
      "cell_type": "code",
      "source": [
        "df.shape # display the number of rows and columns"
      ],
      "metadata": {
        "id": "Kllu7SJgmLij"
      },
      "execution_count": null,
      "outputs": []
    },
    {
      "cell_type": "markdown",
      "source": [
        "Here, In the dataset, there are 48895 rows and 16 columns."
      ],
      "metadata": {
        "id": "jPUwxAcmLcnv"
      }
    },
    {
      "cell_type": "markdown",
      "source": [
        "### Dataset Information"
      ],
      "metadata": {
        "id": "JlHwYmJAmNHm"
      }
    },
    {
      "cell_type": "code",
      "source": [
        "df.info() # display the information"
      ],
      "metadata": {
        "id": "e9hRXRi6meOf"
      },
      "execution_count": null,
      "outputs": []
    },
    {
      "cell_type": "markdown",
      "source": [
        "#### Duplicate Values"
      ],
      "metadata": {
        "id": "35m5QtbWiB9F"
      }
    },
    {
      "cell_type": "code",
      "source": [
        "# Dataset Duplicate Value Count\n",
        "df.duplicated().sum() # display the number of duplicate values"
      ],
      "metadata": {
        "id": "1sLdpKYkmox0"
      },
      "execution_count": null,
      "outputs": []
    },
    {
      "cell_type": "markdown",
      "source": [
        "There are 0 duplicated values in the dataset"
      ],
      "metadata": {
        "id": "jFME6HVsL45d"
      }
    },
    {
      "cell_type": "markdown",
      "source": [
        "#### Missing Values/Null Values"
      ],
      "metadata": {
        "id": "PoPl-ycgm1ru"
      }
    },
    {
      "cell_type": "code",
      "source": [
        "# Missing Values/Null Values Count\n",
        "df.isnull().sum() # display the number of missing values"
      ],
      "metadata": {
        "id": "GgHWkxvamxVg"
      },
      "execution_count": null,
      "outputs": []
    },
    {
      "cell_type": "code",
      "source": [
        "# Visualizing the missing values\n",
        "sns.heatmap(df.isnull()) # visualize the missing values through heatmap"
      ],
      "metadata": {
        "id": "3q5wnI3om9sJ"
      },
      "execution_count": null,
      "outputs": []
    },
    {
      "cell_type": "markdown",
      "source": [
        "In this chart, white lines represents the missing values in the columns\n"
      ],
      "metadata": {
        "id": "R8GFQtBzM1kp"
      }
    },
    {
      "cell_type": "markdown",
      "source": [
        "### What did you know about your dataset?"
      ],
      "metadata": {
        "id": "H0kj-8xxnORC"
      }
    },
    {
      "cell_type": "markdown",
      "source": [
        "**About the Dataset**\n",
        "* This Airbnb dataset contains 48895 observations from New York , with 16 columns of data.\n",
        "\n",
        "* The dataset contains both numerical and categorical data.\n",
        "* The dataset contains the innformation regardinng the bookings on AirBnb in NewYork city in year 2019.\n",
        "* This data can help us to analyze trends and patterns of AirBnb.\n",
        "* In the dataset there is 0  duplicate values in it.\n",
        "\n",
        "* In the columns, \"last_review\" and \"reviews_per_month\" has the highest null values .\n"
      ],
      "metadata": {
        "id": "gfoNAAC-nUe_"
      }
    },
    {
      "cell_type": "markdown",
      "source": [
        "## ***2. Understanding Your Variables***"
      ],
      "metadata": {
        "id": "nA9Y7ga8ng1Z"
      }
    },
    {
      "cell_type": "code",
      "source": [
        "df.columns # display the columns"
      ],
      "metadata": {
        "id": "j7xfkqrt5Ag5"
      },
      "execution_count": null,
      "outputs": []
    },
    {
      "cell_type": "code",
      "source": [
        "df.describe() # display the stats"
      ],
      "metadata": {
        "id": "DnOaZdaE5Q5t"
      },
      "execution_count": null,
      "outputs": []
    },
    {
      "cell_type": "markdown",
      "source": [
        "### Variables Description"
      ],
      "metadata": {
        "id": "PBTbrJXOngz2"
      }
    },
    {
      "cell_type": "markdown",
      "source": [
        "### **Datasets Variables:**\n",
        "* **id** :- This is a unique identifier for each listing in the dataset.\n",
        "\n",
        "* **name** :- This is the name or title of the listing, as it appears on the Airbnb website.\n",
        "\n",
        "* **Host_id** :- This is a unique identifier for each host in the dataset.\n",
        "\n",
        "* **Host_name** :- This is the name of the host as it appears on the Airbnb website.\n",
        "\n",
        "* **Neighbourhood_group** :- This is a grouping of neighborhoods in New York City, such as Manhattan or Brooklyn.\n",
        "\n",
        "* **Neighbourhood** :- This is the specific neighborhood in which the listing is located.\n",
        "\n",
        "* **Latitude** :- This is the geographic latitude of the listing.\n",
        "\n",
        "* **Longitude** :- This is the geographic longitude of the listing.\n",
        "\n",
        "* **Room_type** :- This is the type of room or property being offered, such as an entire home, private room, shared room.\n",
        "\n",
        "* **Price** :- This is the nightly price for the listing, in US dollars.\n",
        "\n",
        "* **Minimum_nights** :- This is the minimum number of nights that a guest must stay at the listing.\n",
        "\n",
        "* **number_of_reviews** :- This is the total number of reviews that the listing has received.\n",
        "* **last_review** :- This is the last review by the customer.\n",
        "\n",
        "* **Reviews_per_month** :- This is the average number of reviews that the listing receives per month.\n",
        "\n",
        "* **calculated_host_listings_count** :- This is the total number of listings that the host has on Airbnb.\n",
        "\n",
        "* **Availability_365** :- This is the number of days in the next 365 days that the listing is available for booking."
      ],
      "metadata": {
        "id": "aJV4KIxSnxay"
      }
    },
    {
      "cell_type": "code",
      "source": [
        "cat_col = df.select_dtypes(include='object').columns.tolist()  # categorical columns\n",
        "num_col = df.select_dtypes(include=['int64', 'float64']).columns.tolist()  #numerical columns\n",
        "\n",
        "print(\"Categorical columns:\", cat_col)\n",
        "print(\"Numerical columns:\", num_col)"
      ],
      "metadata": {
        "id": "_I96PT8Le9R3"
      },
      "execution_count": null,
      "outputs": []
    },
    {
      "cell_type": "markdown",
      "source": [
        "### Check Unique Values for each variable."
      ],
      "metadata": {
        "id": "u3PMJOP6ngxN"
      }
    },
    {
      "cell_type": "code",
      "source": [
        "# Check Unique Values for each variable.\n",
        "unique_values = df.nunique()\n",
        "print(unique_values) # no. of unique values in each column"
      ],
      "metadata": {
        "id": "sdkQQRhqSXDc"
      },
      "execution_count": null,
      "outputs": []
    },
    {
      "cell_type": "markdown",
      "source": [
        "## 3. ***Data Wrangling***"
      ],
      "metadata": {
        "id": "dauF4eBmngu3"
      }
    },
    {
      "cell_type": "markdown",
      "source": [
        "### Data Wrangling Code"
      ],
      "metadata": {
        "id": "bKJF3rekwFvQ"
      }
    },
    {
      "cell_type": "code",
      "source": [
        "df.isnull().sum() # display the number of missing values"
      ],
      "metadata": {
        "id": "DMWVt6ytiM8G"
      },
      "execution_count": null,
      "outputs": []
    },
    {
      "cell_type": "code",
      "source": [
        "# Handling the null values\n",
        "df['reviews_per_month'] = df['reviews_per_month'].replace(to_replace=np.nan,value=0).astype('int64') # the null values are replaced by 0 value in df['reviews_per_month']\n",
        "df['reviews_per_month'].isnull().sum()\n",
        "\n",
        "df = df.drop(['last_review'], axis=1) # drop the last_review column because its not really needed\n",
        "\n",
        "# fill null value\n",
        "df['name'].fillna('unknown',inplace=True)\n",
        "df['host_name'].fillna('no_name',inplace=True)"
      ],
      "metadata": {
        "id": "yYoUEzfulw-o"
      },
      "execution_count": null,
      "outputs": []
    },
    {
      "cell_type": "code",
      "source": [
        "df.isnull().sum() # display the number of missing values"
      ],
      "metadata": {
        "id": "5rG-MAHxl9yr"
      },
      "execution_count": null,
      "outputs": []
    },
    {
      "cell_type": "code",
      "source": [
        "df = df.rename(columns={\"name\": \"listing_name\", \"id\": \"listing_id\"})\n",
        "df.head(5)"
      ],
      "metadata": {
        "id": "b28dlhQNsNeJ"
      },
      "execution_count": null,
      "outputs": []
    },
    {
      "cell_type": "code",
      "source": [
        "# Outlier detection\n",
        "\n",
        "# IQR method\n",
        "Q1 = df['price'].quantile(0.25)\n",
        "Q3 = df['price'].quantile(0.75)\n",
        "IQR = Q3 - Q1\n",
        "lower_bound = Q1 - 1.5 * IQR\n",
        "upper_bound = Q3 + 1.5 * IQR\n",
        "\n",
        "# Identify outlier\n",
        "outliers = df[((df['price'] < lower_bound) | (df['price'] > upper_bound))]\n",
        "\n",
        "# Print the outlier values\n",
        "print(outliers['price'])\n",
        "\n",
        "# Boxplot for price\n",
        "sns.boxplot(x=df['price'])\n",
        "plt.title('Boxplot of Price')\n",
        "plt.show()\n",
        "\n"
      ],
      "metadata": {
        "id": "25c6JfG7vyPt"
      },
      "execution_count": null,
      "outputs": []
    },
    {
      "cell_type": "code",
      "source": [
        "# Remove outliers\n",
        "df = df[~((df['price'] < lower_bound) | (df['price'] > upper_bound))]\n",
        "\n",
        "# Print the shape of the dataframe after removing outliers\n",
        "print(df.shape)\n",
        "\n",
        "# Boxplot after removing outliers\n",
        "sns.boxplot(x=df['price'])\n",
        "plt.title('Price after Removing Outliers')\n",
        "plt.show()\n"
      ],
      "metadata": {
        "id": "vD6_-it9wFql"
      },
      "execution_count": null,
      "outputs": []
    },
    {
      "cell_type": "markdown",
      "source": [
        "### What all manipulations have you done and insights you found?\n",
        "1. handling the null values:\n",
        "\n",
        "\n",
        "*   Remove Last review column\n",
        "*   replace the null value to 0 in df['reviews_per_month']\n",
        "*   fill the null value in df['name'] into 'Unknown'.\n",
        "*   fill the null value in df['host_name'] into 'no_name'.\n",
        "\n",
        "After that there is no null values in the dataset\n",
        "\n",
        "2. Handling outliers:\n",
        "* With the help of IQR method identify the Outliers in df['Price'] and show the visuals through the boxplot\n",
        "* Remove the outliers and the show the visuals\n",
        "3. Rename the two columns 'id' and 'name' into 'listing_id' and 'listing_name'\n",
        "\n"
      ],
      "metadata": {
        "id": "MSa1f5Uengrz"
      }
    },
    {
      "cell_type": "markdown",
      "source": [
        "## ***4. Data Vizualization, Storytelling & Experimenting with charts : Understand the relationships between variables***"
      ],
      "metadata": {
        "id": "GF8Ens_Soomf"
      }
    },
    {
      "cell_type": "markdown",
      "source": [
        "#### Chart - 1 ----- Distribution of Price"
      ],
      "metadata": {
        "id": "0wOQAZs5pc--"
      }
    },
    {
      "cell_type": "code",
      "source": [
        "# Chart - 1 : Distribution of Price\n",
        "plt.hist(df['price'], bins = 20)\n",
        "plt.xlabel('Price')\n",
        "plt.ylabel('Frequency')\n",
        "plt.title('Histogram of price')\n",
        "plt.show()"
      ],
      "metadata": {
        "id": "7v_ESjsspbW7"
      },
      "execution_count": null,
      "outputs": []
    },
    {
      "cell_type": "markdown",
      "source": [
        "##### 1. Why did you pick the specific chart?"
      ],
      "metadata": {
        "id": "K5QZ13OEpz2H"
      }
    },
    {
      "cell_type": "markdown",
      "source": [
        "**Ans:** The histogram chart was chosen because it is an effective way to visualize the distribution of a continuous variable. In this case, the continuous variable is the price of items in the DataFrame df. Histograms are particularly useful for understanding the underlying frequency distribution of the data,"
      ],
      "metadata": {
        "id": "XESiWehPqBRc"
      }
    },
    {
      "cell_type": "markdown",
      "source": [
        "##### 2. What is/are the insight(s) found from the chart?"
      ],
      "metadata": {
        "id": "lQ7QKXXCp7Bj"
      }
    },
    {
      "cell_type": "markdown",
      "source": [
        "**Ans:** To determine the insights from the chart, let's consider what a histogram of price reveal:\n",
        "\n",
        "* Distribution Shape: Whether the price data is normally distributed, skewed to the left or right, or has multiple modes (peaks).\n",
        "* Central Tendency: The most common price range (the mode) and how the prices are spread around the mean.\n",
        "* Variability: The range of prices and whether there are outliers or extreme values.\n",
        "* Frequency of Price Ranges: How many items fall into different price bins, indicating popular and less popular price points."
      ],
      "metadata": {
        "id": "C_j1G7yiqdRP"
      }
    },
    {
      "cell_type": "markdown",
      "source": [
        "##### 3. Will the gained insights help creating a positive business impact?\n",
        "Are there any insights that lead to negative growth? Justify with specific reason."
      ],
      "metadata": {
        "id": "448CDAPjqfQr"
      }
    },
    {
      "cell_type": "markdown",
      "source": [
        "**Ans:**\n",
        "* **Positive:** Yes, the insights will help identify optimal pricing strategies and popular price ranges for a positive business impact.\n",
        "* **Negative:**  Yes, if the histogram reveals a skewed distribution or gaps in price ranges, it could indicate potential market issues leading to negative growth.\n",
        "\n",
        "\n",
        "\n",
        "\n"
      ],
      "metadata": {
        "id": "3cspy4FjqxJW"
      }
    },
    {
      "cell_type": "markdown",
      "source": [
        "#### Chart - 2 ----- Distribution of Room"
      ],
      "metadata": {
        "id": "KSlN3yHqYklG"
      }
    },
    {
      "cell_type": "code",
      "source": [
        "# Chart - 2 -Distribution of Room\n",
        "sns.countplot(data = df , x = 'room_type',hue= 'room_type', palette='rocket')\n",
        "plt.xlabel('Room Type')\n",
        "plt.ylabel('No. of rooms')\n",
        "plt.title('Distribution of Room ')\n",
        "plt.xticks(rotation=45)\n",
        "plt.show()"
      ],
      "metadata": {
        "id": "R4YgtaqtYklH"
      },
      "execution_count": null,
      "outputs": []
    },
    {
      "cell_type": "markdown",
      "source": [
        "##### 1. Why did you pick the specific chart?"
      ],
      "metadata": {
        "id": "t6dVpIINYklI"
      }
    },
    {
      "cell_type": "markdown",
      "source": [
        "**Answer:**\n",
        "\n",
        "The count plot was chosen because it is an effective way to visualize the frequency distribution of categorical data. In this case, the categorical variable is room_type from the DataFrame df. Count plots help in understanding how different categories compare in terms of their counts, which is crucial for categorical variables."
      ],
      "metadata": {
        "id": "5aaW0BYyYklI"
      }
    },
    {
      "cell_type": "markdown",
      "source": [
        "##### 2. What is/are the insight(s) found from the chart?"
      ],
      "metadata": {
        "id": "ijmpgYnKYklI"
      }
    },
    {
      "cell_type": "markdown",
      "source": [
        "**Answer:** From the count plot, we can gain the following insights:\n",
        "\n",
        "* Most Common Room Types: Identify which room types are the most and least common.\n",
        "* Compare the popularity of different room types.\n",
        "* Understand the distribution of room types to better segment the market."
      ],
      "metadata": {
        "id": "PSx9atu2YklI"
      }
    },
    {
      "cell_type": "markdown",
      "source": [
        "##### 3. Will the gained insights help creating a positive business impact?\n",
        "Are there any insights that lead to negative growth? Justify with specific reason."
      ],
      "metadata": {
        "id": "-JiQyfWJYklI"
      }
    },
    {
      "cell_type": "markdown",
      "source": [
        "**Answer:**\n",
        "\n",
        "**Positive Impact:**\n",
        "\n",
        "* By knowing which room types are more common, businesses can allocate resources more effectively.\n",
        "* Focus marketing efforts on less common room types to balance the demand or on the most popular ones to maximize occupancy.\n",
        "* Adjust pricing strategies based on the supply and demand for different room types.\n",
        "\n",
        "**Negative Growth:**\n",
        "\n",
        "* If one room type is overwhelmingly more common, it may indicate an oversupply, leading to lower prices and reduced profitability.\n",
        "* If certain room types are underrepresented, it may indicate missed market opportunities, where potential revenue is not being realized."
      ],
      "metadata": {
        "id": "BcBbebzrYklV"
      }
    },
    {
      "cell_type": "markdown",
      "source": [
        "#### Chart - 3 ----- Latitude vs. Longitude"
      ],
      "metadata": {
        "id": "EM7whBJCYoAo"
      }
    },
    {
      "cell_type": "code",
      "source": [
        "# Chart - 3 scatter plot of latitude vs. longitude\n",
        "plt.figure(figsize=(10, 6))\n",
        "plt.scatter(df['latitude'], df['longitude'], alpha=0.5)\n",
        "plt.xlabel('Latitude')\n",
        "plt.ylabel('Longitude')\n",
        "plt.title('Plot of Latitude vs. Longitude')\n",
        "plt.show()\n"
      ],
      "metadata": {
        "id": "t6GMdE67YoAp"
      },
      "execution_count": null,
      "outputs": []
    },
    {
      "cell_type": "markdown",
      "source": [
        "##### 1. Why did you pick the specific chart?"
      ],
      "metadata": {
        "id": "fge-S5ZAYoAp"
      }
    },
    {
      "cell_type": "markdown",
      "source": [
        "**Answer:**\n",
        "\n",
        " The scatter plot was chosen because it is an effective way to visualize the relationship between two continuous variables. In this case, the continuous variables are latitude and longitude. Scatter plots are particularly useful for identifying patterns, clusters, and outliers in geographical data."
      ],
      "metadata": {
        "id": "5dBItgRVYoAp"
      }
    },
    {
      "cell_type": "markdown",
      "source": [
        "##### 2. What is/are the insight(s) found from the chart?"
      ],
      "metadata": {
        "id": "85gYPyotYoAp"
      }
    },
    {
      "cell_type": "markdown",
      "source": [
        "**Answer:**\n",
        "\n",
        "From the scatter plot of latitude vs. longitude, we can gain the following insights:\n",
        "\n",
        "* Visualize the geographical spread of data points.\n",
        "* Identify areas with high concentrations of data points, indicating popular locations.\n",
        "* Spot locations that are isolated or far from clusters, which may require special attention."
      ],
      "metadata": {
        "id": "4jstXR6OYoAp"
      }
    },
    {
      "cell_type": "markdown",
      "source": [
        "##### 3. Will the gained insights help creating a positive business impact?\n",
        "Are there any insights that lead to negative growth? Justify with specific reason."
      ],
      "metadata": {
        "id": "RoGjAbkUYoAp"
      }
    },
    {
      "cell_type": "markdown",
      "source": [
        "**Answer:**\n",
        "\n",
        "**Positive Impact:**\n",
        "\n",
        "* Understanding the geographical distribution helps in market analysis and strategic planning.\n",
        "* Allocate resources effectively by focusing on areas with high concentrations of listings.\n",
        "* Develop targeted marketing strategies for specific locations based on their popularity and density.\n",
        "\n",
        "\n",
        "**Negative Growth:**\n",
        "* High concentration in specific areas may indicate market saturation, leading to increased competition and reduced profitability.\n",
        "* Isolated or underrepresented locations might be overlooked, missing out on potential market opportunities and revenue."
      ],
      "metadata": {
        "id": "zfJ8IqMcYoAp"
      }
    },
    {
      "cell_type": "markdown",
      "source": [
        "#### Chart - 4 ----- Number of listings in each neighborhood group"
      ],
      "metadata": {
        "id": "4Of9eVA-YrdM"
      }
    },
    {
      "cell_type": "code",
      "source": [
        "# Chart - 4\n",
        "# Create a bar chart of the number of listings in each neighborhood group\n",
        "sns.barplot(x=\"neighbourhood_group\", y=\"listing_id\", data=df, hue =\"neighbourhood_group\", palette=\"Set3\")\n",
        "plt.title(\"Number of Listings in Each Neighborhood Group\")\n",
        "plt.xlabel(\"Neighborhood Group\")\n",
        "plt.ylabel(\"Number of Listings\")\n",
        "plt.xticks(rotation=45)\n",
        "plt.show()\n",
        "\n"
      ],
      "metadata": {
        "id": "irlUoxc8YrdO"
      },
      "execution_count": null,
      "outputs": []
    },
    {
      "cell_type": "markdown",
      "source": [
        "##### 1. Why did you pick the specific chart?"
      ],
      "metadata": {
        "id": "iky9q4vBYrdO"
      }
    },
    {
      "cell_type": "markdown",
      "source": [
        "**Answer:**\n",
        "\n",
        "The bar plot was chosen because it effectively displays the comparison of categorical data, specifically the number of listings across different neighborhood groups. It provides a clear visual representation of the frequency distribution, making it easy to compare different categories side by side."
      ],
      "metadata": {
        "id": "aJRCwT6DYrdO"
      }
    },
    {
      "cell_type": "markdown",
      "source": [
        "##### 2. What is/are the insight(s) found from the chart?"
      ],
      "metadata": {
        "id": "F6T5p64dYrdO"
      }
    },
    {
      "cell_type": "markdown",
      "source": [
        "**Answer:**\n",
        "\n",
        "From the bar plot of neighbourhood_group vs. listing_id, we can gain the following insights:\n",
        "\n",
        "* Identify which neighborhood groups have the most and least listings.\n",
        "* Easily compare the number of listings across different neighborhood groups.\n",
        "* Determine which neighborhood groups are the most popular based on the number of listings."
      ],
      "metadata": {
        "id": "Xx8WAJvtYrdO"
      }
    },
    {
      "cell_type": "markdown",
      "source": [
        "##### 3. Will the gained insights help creating a positive business impact?\n",
        "Are there any insights that lead to negative growth? Justify with specific reason."
      ],
      "metadata": {
        "id": "y-Ehk30pYrdP"
      }
    },
    {
      "cell_type": "markdown",
      "source": [
        "**Answer:**\n",
        "\n",
        "**Positive Impact:**\n",
        "* Focus on high-demand areas for investment and development.\n",
        "* Allocate resources effectively to neighborhood groups with high numbers of listings.\n",
        "* Develop targeted marketing strategies for areas with fewer listings to balance demand.\n",
        "\n",
        "**Negative Growth:**\n",
        "* Neighborhood groups with a high number of listings may be saturated, leading to increased competition and potentially lower prices.\n",
        "* Neighborhood groups with fewer listings might indicate a lack of interest or potential issues that need addressing, such as lower demand or inadequate infrastructure."
      ],
      "metadata": {
        "id": "jLNxxz7MYrdP"
      }
    },
    {
      "cell_type": "markdown",
      "source": [
        "#### Chart - 5 ----- Price vs. Number of Reviews"
      ],
      "metadata": {
        "id": "bamQiAODYuh1"
      }
    },
    {
      "cell_type": "code",
      "source": [
        "# Chart - 5 - scatter Plot of Price vs. Number of Reviews\n",
        "plt.figure(figsize=(10, 6))\n",
        "plt.scatter(df['price'], df['number_of_reviews'], alpha=0.5)\n",
        "plt.xlabel('Price')\n",
        "plt.ylabel('Number of Reviews')\n",
        "plt.title('Price vs. Reviews')\n",
        "plt.show()"
      ],
      "metadata": {
        "id": "TIJwrbroYuh3"
      },
      "execution_count": null,
      "outputs": []
    },
    {
      "cell_type": "markdown",
      "source": [
        "##### 1. Why did you pick the specific chart?"
      ],
      "metadata": {
        "id": "QHF8YVU7Yuh3"
      }
    },
    {
      "cell_type": "markdown",
      "source": [
        "**Answer:**\n",
        "\n",
        "The scatter plot was chosen because it effectively visualizes the relationship between two continuous variables, price and number_of_reviews. Scatter plots are useful for identifying correlations, patterns, and outliers in the data."
      ],
      "metadata": {
        "id": "dcxuIMRPYuh3"
      }
    },
    {
      "cell_type": "markdown",
      "source": [
        "##### 2. What is/are the insight(s) found from the chart?"
      ],
      "metadata": {
        "id": "GwzvFGzlYuh3"
      }
    },
    {
      "cell_type": "markdown",
      "source": [
        "**Answer:**\n",
        "\n",
        "From the scatter plot of price vs. number_of_reviews, we can gain the following insights:\n",
        "\n",
        "* Determine if there is a correlation between the price of listings and the number of reviews they receive.\n",
        "* Identify any patterns or trends in the data, such as higher-priced listings receiving fewer or more reviews.\n",
        "* Spot outliers, such as extremely high-priced listings with an unusually high or low number of reviews."
      ],
      "metadata": {
        "id": "uyqkiB8YYuh3"
      }
    },
    {
      "cell_type": "markdown",
      "source": [
        "##### 3. Will the gained insights help creating a positive business impact?\n",
        "Are there any insights that lead to negative growth? Justify with specific reason."
      ],
      "metadata": {
        "id": "qYpmQ266Yuh3"
      }
    },
    {
      "cell_type": "markdown",
      "source": [
        "**Answer:**\n",
        "\n",
        "**Positive Impact:**\n",
        "* Understanding the relationship between price and reviews can help in setting optimal prices to maximize both revenue and customer satisfaction.\n",
        "* Listings with many reviews at various price points can indicate popular and well-received properties, guiding improvements in quality and service.\n",
        "* Identifying price ranges that attract more reviews can help in targeting marketing efforts to those segments.\n",
        "\n",
        "\n",
        "**Negative Growth:**\n",
        "\n",
        "* Listings with high prices but few reviews might indicate overpricing or lack of competitiveness, leading to potential revenue loss.\n",
        "* Listings with low prices and many reviews might indicate high demand but low profitability, suggesting the need to reconsider pricing strategies."
      ],
      "metadata": {
        "id": "_WtzZ_hCYuh4"
      }
    },
    {
      "cell_type": "markdown",
      "source": [
        "#### Chart - 6 ----- Average price in each neighborhood group"
      ],
      "metadata": {
        "id": "OH-pJp9IphqM"
      }
    },
    {
      "cell_type": "code",
      "source": [
        "# Chart - 6 ----- bar chart of the average price in each neighborhood group\n",
        "sns.barplot(x=\"neighbourhood_group\", y=\"price\", data=df)\n",
        "plt.title(\"Average Price by Neighborhood Group\")\n",
        "plt.xlabel(\"Neighborhood Group\")\n",
        "plt.ylabel(\"Average Price\")\n",
        "plt.xticks(rotation=45)\n",
        "plt.show()"
      ],
      "metadata": {
        "id": "kuRf4wtuphqN"
      },
      "execution_count": null,
      "outputs": []
    },
    {
      "cell_type": "markdown",
      "source": [
        "##### 1. Why did you pick the specific chart?"
      ],
      "metadata": {
        "id": "bbFf2-_FphqN"
      }
    },
    {
      "cell_type": "markdown",
      "source": [
        "**Answer:**\n",
        "\n",
        "The bar plot was chosen because it effectively displays the average values of a continuous variable (price) across different categories (neighborhood groups). It provides a clear visual representation of how prices vary by neighborhood group, making it easy to compare different categories side by side."
      ],
      "metadata": {
        "id": "loh7H2nzphqN"
      }
    },
    {
      "cell_type": "markdown",
      "source": [
        "##### 2. What is/are the insight(s) found from the chart?"
      ],
      "metadata": {
        "id": "_ouA3fa0phqN"
      }
    },
    {
      "cell_type": "markdown",
      "source": [
        "**Answer:**\n",
        "\n",
        "From the bar plot of neighbourhood_group vs. price, we can gain the following insights:\n",
        "* Identify which neighborhood groups have the highest and lowest average prices.\n",
        "* Understand the disparities in pricing between different neighborhood groups.\n",
        "* Determine how pricing varies across different segments of the market."
      ],
      "metadata": {
        "id": "VECbqPI7phqN"
      }
    },
    {
      "cell_type": "markdown",
      "source": [
        "##### 3. Will the gained insights help creating a positive business impact?\n",
        "Are there any insights that lead to negative growth? Justify with specific reason."
      ],
      "metadata": {
        "id": "Seke61FWphqN"
      }
    },
    {
      "cell_type": "markdown",
      "source": [
        "**Answer:**\n",
        "\n",
        "**Positive Impact:**\n",
        "\n",
        "* Adjust pricing strategies based on the average prices in different neighborhood groups to remain competitive.\n",
        "* Make informed investment decisions by targeting neighborhoods with higher average prices for better returns.\n",
        "* Develop targeted marketing strategies for different neighborhoods based on their average prices.\n",
        "\n",
        "**Negative Growth:**\n",
        "\n",
        "* Neighborhood groups with significantly higher average prices might face reduced demand due to being overpriced, leading to potential revenue loss.\n",
        "* Neighborhood groups with lower average prices might indicate underutilized potential or undervalued properties, suggesting a need for better pricing strategies."
      ],
      "metadata": {
        "id": "DW4_bGpfphqN"
      }
    },
    {
      "cell_type": "markdown",
      "source": [
        "#### Chart - 7 ----- Relation between neighbourhood group and availability of rooms"
      ],
      "metadata": {
        "id": "PIIx-8_IphqN"
      }
    },
    {
      "cell_type": "code",
      "source": [
        "# Chart - 7 -----Finding Relation between neighbourhood group and availability of rooms\n",
        "plt.figure(figsize=(10,10))\n",
        "sns.set_style('white')\n",
        "\n",
        "ax = sns.boxplot(data=df, x='neighbourhood_group',y='availability_365',hue ='neighbourhood_group', palette='plasma')\n",
        "\n",
        "# Naming the Chart\n",
        "ax.set_title('Relation between Neighbourhood group & Availability of rooms').set_fontsize('15')\n",
        "\n",
        "# Naming X & Y axis\n",
        "ax.set_ylabel('Availability 365 Days').set_fontsize('15')\n",
        "ax.set_xlabel('Neighbourhood Group').set_fontsize('15')\n",
        "\n",
        "#Adjusting Bar labels\n",
        "ax.set_xticklabels(ax.get_xticklabels(), size = '15')"
      ],
      "metadata": {
        "id": "lqAIGUfyphqO"
      },
      "execution_count": null,
      "outputs": []
    },
    {
      "cell_type": "markdown",
      "source": [
        "##### 1. Why did you pick the specific chart?"
      ],
      "metadata": {
        "id": "t27r6nlMphqO"
      }
    },
    {
      "cell_type": "markdown",
      "source": [
        "**Answer:**\n",
        "\n",
        "The box plot was chosen because it effectively displays the distribution of a continuous variable (availability of rooms) across different categories (neighborhood groups). Box plots provide a visual summary of key statistics, such as the median, quartiles, and potential outliers, making it easy to compare the spread and central tendency of the data across categories."
      ],
      "metadata": {
        "id": "iv6ro40sphqO"
      }
    },
    {
      "cell_type": "markdown",
      "source": [
        "##### 2. What is/are the insight(s) found from the chart?"
      ],
      "metadata": {
        "id": "r2jJGEOYphqO"
      }
    },
    {
      "cell_type": "markdown",
      "source": [
        "**Answer:**\n",
        "\n",
        "From the box plot of neighbourhood_group vs. availability_365, we can gain the following insights:\n",
        "\n",
        "* Identify the median availability of rooms in each neighborhood group.\n",
        "Spread of Data: Understand the range and interquartile range (IQR) of room availability within each neighborhood group.\n",
        "* Detect any outliers in room availability for different neighborhood groups.\n",
        "* Compare the availability of rooms across different neighborhood groups to identify which groups have more or less available rooms on average."
      ],
      "metadata": {
        "id": "Po6ZPi4hphqO"
      }
    },
    {
      "cell_type": "markdown",
      "source": [
        "##### 3. Will the gained insights help creating a positive business impact?\n",
        "Are there any insights that lead to negative growth? Justify with specific reason."
      ],
      "metadata": {
        "id": "b0JNsNcRphqO"
      }
    },
    {
      "cell_type": "markdown",
      "source": [
        "**Answer:**\n",
        "\n",
        "**Positive Impact:**\n",
        "* Understanding the relationship between price and reviews can help in setting optimal prices to maximize both revenue and customer satisfaction.\n",
        "* Listings with many reviews at various price points can indicate popular and well-received properties, guiding improvements in quality and service.\n",
        "* Identifying price ranges that attract more reviews can help in targeting marketing efforts to those segments.\n",
        "\n",
        "**Negative Growth:**\n",
        "\n",
        "* Listings with high prices but few reviews might indicate overpricing or lack of competitiveness, leading to potential revenue loss.\n",
        "*  Listings with low prices and many reviews might indicate high demand but low profitability, suggesting the need to reconsider pricing strategies."
      ],
      "metadata": {
        "id": "xvSq8iUTphqO"
      }
    },
    {
      "cell_type": "markdown",
      "source": [
        "#### Chart - 8 ----- Hosts with most listings"
      ],
      "metadata": {
        "id": "BZR9WyysphqO"
      }
    },
    {
      "cell_type": "code",
      "source": [
        "# Chart - 8 ---------Hosts with most listings in New York\n",
        "most_listings_hosts = df.groupby('host_id')['listing_id'].count().sort_values(ascending=False).head(10)\n",
        "\n",
        "# Create a bar chart\n",
        "plt.figure(figsize=(10, 6))\n",
        "sns.barplot(x=most_listings_hosts.index, y=most_listings_hosts.values, hue=most_listings_hosts.index , palette='rocket')\n",
        "plt.xlabel('Host ID')\n",
        "plt.ylabel('Number of Listings')\n",
        "plt.title('Hosts with Most Listings')\n",
        "plt.xticks(rotation=45)\n",
        "plt.show()"
      ],
      "metadata": {
        "id": "TdPTWpAVphqO"
      },
      "execution_count": null,
      "outputs": []
    },
    {
      "cell_type": "markdown",
      "source": [
        "##### 1. Why did you pick the specific chart?"
      ],
      "metadata": {
        "id": "jj7wYXLtphqO"
      }
    },
    {
      "cell_type": "markdown",
      "source": [
        "**Answer:**\n",
        "\n",
        "The bar chart was chosen because it effectively visualizes the number of listings associated with the top hosts. Bar charts are excellent for comparing the size of different categories, making it easy to see which hosts have the most listings."
      ],
      "metadata": {
        "id": "Ob8u6rCTphqO"
      }
    },
    {
      "cell_type": "markdown",
      "source": [
        "##### 2. What is/are the insight(s) found from the chart?"
      ],
      "metadata": {
        "id": "eZrbJ2SmphqO"
      }
    },
    {
      "cell_type": "markdown",
      "source": [
        "**Answer:**\n",
        "\n",
        "From the bar chart of hosts with the most listings, we can gain the following insights:\n",
        "\n",
        "* Identify which hosts have the most listings.\n",
        "* Understand the distribution of listings among the top hosts.\n",
        "* Determine the influence and reach of the top hosts in the market."
      ],
      "metadata": {
        "id": "mZtgC_hjphqO"
      }
    },
    {
      "cell_type": "markdown",
      "source": [
        "##### 3. Will the gained insights help creating a positive business impact?\n",
        "Are there any insights that lead to negative growth? Justify with specific reason."
      ],
      "metadata": {
        "id": "rFu4xreNphqO"
      }
    },
    {
      "cell_type": "markdown",
      "source": [
        "**Answer:**\n",
        "\n",
        "\n",
        "**Positive Impact:**\n",
        "\n",
        "* Identify key hosts for potential partnerships or targeted marketing efforts.\n",
        "* Allocate resources and support to hosts with a significant number of listings to maximize occupancy and revenue.\n",
        "* Develop market strategies focusing on hosts with a large number of listings to ensure they remain satisfied and continue to contribute to the platform's success.\n",
        "\n",
        "**Negative Growth:**\n",
        "\n",
        "* Overreliance on a few hosts with many listings might pose a risk if these hosts decide to leave the platform or move their listings elsewhere.\n",
        "* Hosts with many listings might lead to market saturation, making it harder for new hosts to compete, which can reduce the diversity and attractiveness of the listings."
      ],
      "metadata": {
        "id": "ey_0qi68phqO"
      }
    },
    {
      "cell_type": "markdown",
      "source": [
        "#### Chart - 9  ----- Top hots on their turnover\n"
      ],
      "metadata": {
        "id": "YJ55k-q6phqO"
      }
    },
    {
      "cell_type": "code",
      "source": [
        "## top hosts based on their turnover\n",
        "top_host=df.groupby(['host_name','host_id'])['price'].sum().reset_index()\n",
        "top_host.rename(columns={'price':'total_price'},inplace=True)\n",
        "top_host.head()\n",
        "top_3=top_host.sort_values(by='total_price',ascending=False).head(3) # top 3 hosts"
      ],
      "metadata": {
        "id": "9cEC2WKujbNr"
      },
      "execution_count": null,
      "outputs": []
    },
    {
      "cell_type": "code",
      "source": [
        "# Chart - 9 visualization code\n",
        "\n",
        "\n",
        "abc= sns.barplot(x='host_name',y='total_price',data = top_3,  hue='host_name', palette=\"rocket_r\" )\n",
        "abc.set_title('three hosts based on their turnover')\n",
        "abc.set_xlabel('total price')\n",
        "abc.set_ylabel('host_name')\n",
        "\n",
        "abc.set_xticklabels(abc.get_xticklabels(),rotation = 45,size='15')\n",
        "plt.show()"
      ],
      "metadata": {
        "id": "B2aS4O1ophqO"
      },
      "execution_count": null,
      "outputs": []
    },
    {
      "cell_type": "markdown",
      "source": [
        "##### 1. Why did you pick the specific chart?"
      ],
      "metadata": {
        "id": "gCFgpxoyphqP"
      }
    },
    {
      "cell_type": "markdown",
      "source": [
        "**Answer:**\n",
        "\n",
        "The bar chart was chosen because it effectively displays the total turnover (total price) for the top three hosts. Bar charts are ideal for comparing the values of different categories, making it easy to see which hosts have the highest turnover."
      ],
      "metadata": {
        "id": "TVxDimi2phqP"
      }
    },
    {
      "cell_type": "markdown",
      "source": [
        "##### 2. What is/are the insight(s) found from the chart?"
      ],
      "metadata": {
        "id": "OVtJsKN_phqQ"
      }
    },
    {
      "cell_type": "markdown",
      "source": [
        "**Answer:**\n",
        "\n",
        "From the bar chart of host names vs. total price, we can gain the following insights:\n",
        "\n",
        "* Identify the top three hosts based on their turnover.\n",
        "* Compare the total turnover among the top three hosts.\n",
        "* Understand the financial performance of the leading hosts."
      ],
      "metadata": {
        "id": "ngGi97qjphqQ"
      }
    },
    {
      "cell_type": "markdown",
      "source": [
        "##### 3. Will the gained insights help creating a positive business impact?\n",
        "Are there any insights that lead to negative growth? Justify with specific reason."
      ],
      "metadata": {
        "id": "lssrdh5qphqQ"
      }
    },
    {
      "cell_type": "markdown",
      "source": [
        "**Answer:**\n",
        "\n",
        "**Positive Impact:**\n",
        "\n",
        "* Focus efforts on maintaining strong relationships with top-performing hosts to ensure continued high turnover.\n",
        "*  Allocate resources and support to these high-turnover hosts to help them maintain or increase their performance.\n",
        "*  Use the performance of top hosts as benchmarks for other hosts to strive towards.\n",
        "\n",
        "**Negative Growth:**\n",
        "\n",
        "* Over-reliance on a few top hosts for a significant portion of turnover might pose a risk if these hosts face issues or leave the platform.\n",
        "* Focus on top hosts might lead to neglect of smaller hosts, potentially reducing overall diversity and opportunities for growth across the platform."
      ],
      "metadata": {
        "id": "tBpY5ekJphqQ"
      }
    },
    {
      "cell_type": "markdown",
      "source": [
        "#### Chart - 10 -----Total no. of nights spend per room types"
      ],
      "metadata": {
        "id": "U2RJ9gkRphqQ"
      }
    },
    {
      "cell_type": "code",
      "source": [
        "# # Chart - 10 ----Total no. of nights spend per room types\n",
        "\n",
        "\n",
        "# the number of nights spent per room type\n",
        "room_types = {}\n",
        "\n",
        "# Iterate through the DataFrame\n",
        "for index, row in df.iterrows():\n",
        "    room_type = row[\"room_type\"]\n",
        "    nights_spent = row[\"minimum_nights\"]\n",
        "    if room_type not in room_types:\n",
        "        room_types[room_type] = 0\n",
        "    room_types[room_type] += nights_spent\n",
        "\n",
        "# Create a pie chart\n",
        "colors=['green','pink','yellow']\n",
        "plt.figure(figsize=(10, 6))\n",
        "plt.pie(room_types.values(), labels=room_types.keys(), colors=colors,autopct=\"%1.1f%%\")\n",
        "plt.title(\"Total Number of Nights Spent per Room Type\")\n",
        "plt.show()\n"
      ],
      "metadata": {
        "id": "bVHCFv051sSu"
      },
      "execution_count": null,
      "outputs": []
    },
    {
      "cell_type": "markdown",
      "source": [
        "##### 1. Why did you pick the specific chart?"
      ],
      "metadata": {
        "id": "1M8mcRywphqQ"
      }
    },
    {
      "cell_type": "markdown",
      "source": [
        "**Answer:**\n",
        "\n",
        "The pie chart was chosen because it effectively displays the proportion of total nights spent across different room types. Pie charts are useful for showing the relative sizes of parts to a whole, making it easy to see which room types contribute most significantly to the total nights spent."
      ],
      "metadata": {
        "id": "8agQvks0phqQ"
      }
    },
    {
      "cell_type": "markdown",
      "source": [
        "##### 2. What is/are the insight(s) found from the chart?"
      ],
      "metadata": {
        "id": "tgIPom80phqQ"
      }
    },
    {
      "cell_type": "markdown",
      "source": [
        "**Answer:**\n",
        "\n",
        "From the pie chart of total nights spent per room type, we can gain the following insights:\n",
        "\n",
        "* Understand the distribution of total nights spent among different room types.\n",
        "* Identify which room types are the most and least popular based on the total nights spent.\n",
        "* Gain insights into customer preferences and booking patterns for different room types."
      ],
      "metadata": {
        "id": "Qp13pnNzphqQ"
      }
    },
    {
      "cell_type": "markdown",
      "source": [
        "##### 3. Will the gained insights help creating a positive business impact?\n",
        "Are there any insights that lead to negative growth? Justify with specific reason."
      ],
      "metadata": {
        "id": "JMzcOPDDphqR"
      }
    },
    {
      "cell_type": "markdown",
      "source": [
        "**Answer:**\n",
        "\n",
        "**Positive Impact:**\n",
        "* Allocate resources and focus marketing efforts on the most popular room types to maximize occupancy and revenue.\n",
        "* Manage inventory more effectively by understanding which room types are in higher demand.\n",
        "* Tailor offerings and promotions based on the popularity of different room types to meet customer preferences.\n",
        "\n",
        "**Negative Growth:**\n",
        "\n",
        "* If a significant portion of resources is allocated to less popular room types, it may lead to underutilization and reduced revenue.\n",
        "* Failing to adequately supply and maintain the most popular room types could lead to customer dissatisfaction and lost business opportunities."
      ],
      "metadata": {
        "id": "R4Ka1PC2phqR"
      }
    },
    {
      "cell_type": "markdown",
      "source": [
        "#### Chart - 11 ----- Top neighbourhood with listing_id"
      ],
      "metadata": {
        "id": "x-EpHcCOp1ci"
      }
    },
    {
      "cell_type": "code",
      "source": [
        "# Chart11 ----- Top 3 neighbourhood with listing_id\n",
        "\n",
        "top_neighbourhoods = df.groupby('neighbourhood')['listing_id'].count().sort_values(ascending=False).head(3)\n",
        "\n",
        "# Create a bar chart\n",
        "plt.figure(figsize=(10, 6))\n",
        "sns.barplot(x=top_neighbourhoods.index, y=top_neighbourhoods.values, hue=top_neighbourhoods.index , palette='rocket')\n",
        "plt.xlabel('Neighbourhood')\n",
        "plt.ylabel('Number of Listings')\n",
        "plt.title('Top 3 Neighbourhoods with Most Listings')\n",
        "plt.xticks(rotation=45)\n",
        "plt.show()\n"
      ],
      "metadata": {
        "id": "wxPn0HQb_W3W"
      },
      "execution_count": null,
      "outputs": []
    },
    {
      "cell_type": "markdown",
      "source": [
        "##### 1. Why did you pick the specific chart?"
      ],
      "metadata": {
        "id": "X_VqEhTip1ck"
      }
    },
    {
      "cell_type": "markdown",
      "source": [
        "**Answer:**\n",
        "\n",
        "The bar chart was chosen because it effectively displays the number of listings in the top three neighborhoods. Bar charts are excellent for comparing the sizes of different categories, making it easy to see which neighborhoods have the most listings."
      ],
      "metadata": {
        "id": "-vsMzt_np1ck"
      }
    },
    {
      "cell_type": "markdown",
      "source": [
        "##### 2. What is/are the insight(s) found from the chart?"
      ],
      "metadata": {
        "id": "8zGJKyg5p1ck"
      }
    },
    {
      "cell_type": "markdown",
      "source": [
        "**Answer:**\n",
        "\n",
        "From the bar chart of neighborhoods vs. number of listings, we can gain the following insights:\n",
        "\n",
        "* Identify which neighborhoods have the most listings.\n",
        "* Determine the popularity of neighborhoods based on the number of available listings."
      ],
      "metadata": {
        "id": "ZYdMsrqVp1ck"
      }
    },
    {
      "cell_type": "markdown",
      "source": [
        "##### 3. Will the gained insights help creating a positive business impact?\n",
        "Are there any insights that lead to negative growth? Justify with specific reason."
      ],
      "metadata": {
        "id": "PVzmfK_Ep1ck"
      }
    },
    {
      "cell_type": "markdown",
      "source": [
        "**Answer:**\n",
        "\n",
        "**Positive Impact:**\n",
        "* Focus marketing efforts on the most popular neighborhoods to attract more guests and maximize occupancy.\n",
        "* Make informed investment decisions by targeting high-demand neighborhoods for new listings.\n",
        "* Allocate resources and support to top neighborhoods to maintain and enhance their appeal.\n",
        "\n",
        "\n",
        "**Negative Growth:**\n",
        "* High concentration of listings in a few neighborhoods might lead to market saturation, potentially reducing occupancy rates and rental income.\n",
        "* Focusing too much on top neighborhoods might lead to the neglect of other neighborhoods, which could be developed and marketed to attract more guests and diversify revenue sources."
      ],
      "metadata": {
        "id": "druuKYZpp1ck"
      }
    },
    {
      "cell_type": "markdown",
      "source": [
        "#### Chart - 12 ----- Average Price by Neighbourhood Group"
      ],
      "metadata": {
        "id": "n3dbpmDWp1ck"
      }
    },
    {
      "cell_type": "code",
      "source": [
        "# Chart - 12 ----- Average Price by Neighbourhood Group\n",
        "# Create the point plot\n",
        "sns.pointplot(x = 'neighbourhood_group', y='price', data=df, estimator = np.mean, color= 'green')\n",
        "\n",
        "# Add axis labels and a title\n",
        "plt.xlabel('Neighbourhood Group',fontsize=14)\n",
        "plt.ylabel('Average Price',fontsize=14)\n",
        "plt.title('Average Price by Neighbourhood Group',fontsize=15)"
      ],
      "metadata": {
        "id": "bwevp1tKp1ck"
      },
      "execution_count": null,
      "outputs": []
    },
    {
      "cell_type": "markdown",
      "source": [
        "##### 1. Why did you pick the specific chart?"
      ],
      "metadata": {
        "id": "ylSl6qgtp1ck"
      }
    },
    {
      "cell_type": "markdown",
      "source": [
        "**Answer:**\n",
        "\n",
        "The point plot was chosen because it effectively displays the average price across different neighborhood groups. Point plots are useful for highlighting trends and differences in central tendencies (like mean values) among different categories, making it easy to compare the average prices in various neighborhood groups."
      ],
      "metadata": {
        "id": "m2xqNkiQp1ck"
      }
    },
    {
      "cell_type": "markdown",
      "source": [
        "##### 2. What is/are the insight(s) found from the chart?"
      ],
      "metadata": {
        "id": "ZWILFDl5p1ck"
      }
    },
    {
      "cell_type": "markdown",
      "source": [
        "**Answer:**\n",
        "\n",
        "From the point plot of neighborhood groups vs. average price, we can gain the following insights:\n",
        "\n",
        "* Identify the average price for listings in each neighborhood group.\n",
        "* Understand the trend of prices across different neighborhood groups, seeing which areas are more or less expensive.\n",
        "* Compare the average prices among different neighborhood groups to identify which ones are the most and least expensive."
      ],
      "metadata": {
        "id": "x-lUsV2mp1ck"
      }
    },
    {
      "cell_type": "markdown",
      "source": [
        "##### 3. Will the gained insights help creating a positive business impact?\n",
        "Are there any insights that lead to negative growth? Justify with specific reason."
      ],
      "metadata": {
        "id": "M7G43BXep1ck"
      }
    },
    {
      "cell_type": "markdown",
      "source": [
        "**Answer:**\n",
        "\n",
        "**positive Impact:**\n",
        "* Develop a more informed pricing strategy by understanding which neighborhood groups command higher or lower prices.\n",
        "* Optimize revenue by adjusting prices according to the average prices in each neighborhood group.\n",
        "* Position properties competitively within their respective neighborhood groups by aligning with the average price trends.\n",
        "\n",
        "**Negative Growth:**\n",
        "\n",
        "* Significant price discrepancies between neighborhood groups could indicate potential issues with overpricing or underpricing in certain areas, leading to lower occupancy rates.\n",
        "* Failing to align prices with market demand in specific neighborhood groups might result in lost revenue opportunities or decreased competitiveness."
      ],
      "metadata": {
        "id": "5wwDJXsLp1cl"
      }
    },
    {
      "cell_type": "markdown",
      "source": [
        "#### Chart - 13 -----Number Of Active Hosts Per Location"
      ],
      "metadata": {
        "id": "Ag9LCva-p1cl"
      }
    },
    {
      "cell_type": "code",
      "source": [
        "# create a new DataFrame that displays the number of hosts in each neighborhood group in the Airbnb NYC dataset\n",
        "hosts_per_location = df.groupby('neighbourhood_group')['listing_id'].count().reset_index()\n",
        "\n",
        "# rename the columns of the resulting DataFrame to 'Neighbourhood_Groups' and 'Host_counts'\n",
        "hosts_per_location.columns = ['Neighbourhood_Groups', 'Host_counts']\n",
        "\n",
        "# display the resulting DataFrame\n",
        "hosts_per_location"
      ],
      "metadata": {
        "id": "yYnJXJ8FLRv_"
      },
      "execution_count": null,
      "outputs": []
    },
    {
      "cell_type": "code",
      "source": [
        "# Chart - 13 -----Number Of Active Hosts Per Location\n",
        "hosts_per_location = df.groupby('neighbourhood_group')['listing_id'].count()\n",
        "\n",
        "# Get the list of locations\n",
        "locations = hosts_per_location.index\n",
        "\n",
        "# Get the list of host counts for each neighbourhood_group\n",
        "host_counts = hosts_per_location.values\n",
        "\n",
        "\n",
        "# Create the plot\n",
        "plt.figure(figsize=(12, 5))\n",
        "plt.plot(locations, host_counts, marker='o', ms=12, mew=4, mec='r')\n",
        "plt.title('Number of Active Hosts per Location', fontsize='15')\n",
        "plt.xlabel('Location', fontsize='14')\n",
        "plt.ylabel('Number of Active Hosts', fontsize='14')\n",
        "plt.show()\n",
        ""
      ],
      "metadata": {
        "id": "EUfxeq9-p1cl"
      },
      "execution_count": null,
      "outputs": []
    },
    {
      "cell_type": "markdown",
      "source": [
        "##### 1. Why did you pick the specific chart?"
      ],
      "metadata": {
        "id": "E6MkPsBcp1cl"
      }
    },
    {
      "cell_type": "markdown",
      "source": [
        "**Answer:**\n",
        "\n",
        "The line plot was chosen because it effectively displays the number of active hosts across different neighborhood groups. Line plots are useful for showing trends and changes over categories, making it easy to compare the number of active hosts in various locations and identify any patterns"
      ],
      "metadata": {
        "id": "V22bRsFWp1cl"
      }
    },
    {
      "cell_type": "markdown",
      "source": [
        "##### 2. What is/are the insight(s) found from the chart?"
      ],
      "metadata": {
        "id": "2cELzS2fp1cl"
      }
    },
    {
      "cell_type": "markdown",
      "source": [
        "**Answer:**\n",
        "\n",
        "From the line plot of neighborhood groups vs. number of active hosts, we can gain the following insights:\n",
        "\n",
        "* Identify the number of active hosts in each neighborhood group.\n",
        "* Understand the trends and patterns in host activity across different locations.\n",
        "* Compare the number of active hosts among different neighborhood groups to identify which areas have more or fewer hosts."
      ],
      "metadata": {
        "id": "ozQPc2_Ip1cl"
      }
    },
    {
      "cell_type": "markdown",
      "source": [
        "##### 3. Will the gained insights help creating a positive business impact?\n",
        "Are there any insights that lead to negative growth? Justify with specific reason."
      ],
      "metadata": {
        "id": "3MPXvC8up1cl"
      }
    },
    {
      "cell_type": "markdown",
      "source": [
        "**Answer:**\n",
        "\n",
        "**Positive Impact:**\n",
        "\n",
        "* Focus recruitment and retention efforts on neighborhood groups with fewer active hosts to balance the distribution and increase overall platform presence.\n",
        "* Allocate resources and support to locations with a higher number of active hosts to maximize engagement and satisfaction.\n",
        "* Identify potential areas for market expansion by targeting neighborhood groups with fewer active hosts but high demand.\n",
        "\n",
        "**Negative Growth:**\n",
        "\n",
        "* High concentration of active hosts in certain neighborhood groups might lead to increased competition and lower occupancy rates for individual hosts.\n",
        "* Focusing too much on areas with many active hosts might lead to neglecting smaller markets, which could otherwise be developed to attract more hosts and guests."
      ],
      "metadata": {
        "id": "GL8l1tdLp1cl"
      }
    },
    {
      "cell_type": "markdown",
      "source": [
        "#### Chart - 14 - Correlation Heatmap"
      ],
      "metadata": {
        "id": "NC_X3p0fY2L0"
      }
    },
    {
      "cell_type": "code",
      "source": [
        "# Correlation Heatmap visualization code\n",
        "# Get the numerical columns\n",
        "num_col = df.select_dtypes(include=['int64', 'float64']).columns\n",
        "\n",
        "# Calculate the correlation matrix\n",
        "corr_matrix = df[num_col].corr()\n",
        "\n",
        "# Create the heatmap\n",
        "sns.heatmap(corr_matrix, annot=True, cmap='coolwarm')\n",
        "plt.show()\n"
      ],
      "metadata": {
        "id": "xyC9zolEZNRQ"
      },
      "execution_count": null,
      "outputs": []
    },
    {
      "cell_type": "markdown",
      "source": [
        "##### 1. Why did you pick the specific chart?"
      ],
      "metadata": {
        "id": "UV0SzAkaZNRQ"
      }
    },
    {
      "cell_type": "markdown",
      "source": [
        "**Answer:**\n",
        "\n",
        "The correlation heatmap was chosen because it effectively visualizes the relationships between multiple numerical variables in a dataset. Heatmaps are useful for showing the strength and direction of correlations, making it easy to identify significant positive or negative relationships among variables."
      ],
      "metadata": {
        "id": "DVPuT8LYZNRQ"
      }
    },
    {
      "cell_type": "markdown",
      "source": [
        "##### 2. What is/are the insight(s) found from the chart?"
      ],
      "metadata": {
        "id": "YPEH6qLeZNRQ"
      }
    },
    {
      "cell_type": "markdown",
      "source": [
        "**Answer:**\n",
        "\n",
        "From the correlation heatmap of numerical variables, we can gain the following insights:\n",
        "\n",
        "* Identify pairs of variables with strong positive or negative correlations.\n",
        "Weak or No Correlations: Determine which variables have weak or no correlation with each other.\n",
        "* Understand potential influences of one variable on another, which can be crucial for predictive modeling and decision-making."
      ],
      "metadata": {
        "id": "bfSqtnDqZNRR"
      }
    },
    {
      "cell_type": "markdown",
      "source": [
        "#### Chart - 15 - Pair Plot"
      ],
      "metadata": {
        "id": "q29F0dvdveiT"
      }
    },
    {
      "cell_type": "code",
      "source": [
        "# Pair Plot visualization code\n",
        "sns.pairplot(df)\n",
        "\n",
        "# Show the plot\n",
        "plt.show()"
      ],
      "metadata": {
        "id": "o58-TEIhveiU"
      },
      "execution_count": null,
      "outputs": []
    },
    {
      "cell_type": "markdown",
      "source": [
        "##### 1. Why did you pick the specific chart?"
      ],
      "metadata": {
        "id": "EXh0U9oCveiU"
      }
    },
    {
      "cell_type": "markdown",
      "source": [
        "**Answer:**\n",
        "\n",
        "The pair plot was chosen because it effectively visualizes relationships between multiple pairs of numerical variables in a dataset. Pair plots are useful for identifying patterns, trends, and correlations across different variables, and they provide a comprehensive overview of the data's structure."
      ],
      "metadata": {
        "id": "eMmPjTByveiU"
      }
    },
    {
      "cell_type": "markdown",
      "source": [
        "##### 2. What is/are the insight(s) found from the chart?"
      ],
      "metadata": {
        "id": "22aHeOlLveiV"
      }
    },
    {
      "cell_type": "markdown",
      "source": [
        "**Answer:**\n",
        "\n",
        "From the pair plot, we can gain the following insights:\n",
        "\n",
        "* Identify the relationships between different pairs of variables, including linear and non-linear correlations.\n",
        "* Observe the distribution of each variable along the diagonal plots, giving insights into the spread and skewness of the data.\n",
        "* Detect potential outliers and anomalies in the data by examining the scatter plots for each variable pair.\n",
        "* Identify potential clusters or groupings within the data, which can indicate underlying patterns or segments."
      ],
      "metadata": {
        "id": "uPQ8RGwHveiV"
      }
    },
    {
      "cell_type": "markdown",
      "source": [
        "## **5. Solution to Business Objective**"
      ],
      "metadata": {
        "id": "JcMwzZxoAimU"
      }
    },
    {
      "cell_type": "markdown",
      "source": [
        "#### What do you suggest the client to achieve Business Objective ?\n",
        "Explain Briefly."
      ],
      "metadata": {
        "id": "8G2x9gOozGDZ"
      }
    },
    {
      "cell_type": "markdown",
      "source": [
        "**Answer:**\n",
        "\n",
        "To achieve the business objectives through Airbnb analysis, I recommend the client:\n",
        "\n",
        "* Concentrate on high-performing neighborhoods for property investments and targeted marketing campaigns.\n",
        "\n",
        "* Develop dynamic pricing strategies based on observed data trends.\n",
        "\n",
        "* Ensure consistent service quality to boost customer satisfaction and garner positive reviews.\n",
        "\n",
        "* Diversify room type offerings to attract a wider range of travelers.\n",
        "\n",
        "* Implement seasonal pricing adjustments to maximize revenue during peak periods.\n",
        "\n",
        "* Encourage hosts to increase their listings in areas with growth potential.\n",
        "\n",
        "* Continuously monitor data-driven insights to remain competitive and adapt to evolving market conditions."
      ],
      "metadata": {
        "id": "pASKb0qOza21"
      }
    },
    {
      "cell_type": "markdown",
      "source": [
        "# **Conclusion**"
      ],
      "metadata": {
        "id": "gCX9965dhzqZ"
      }
    },
    {
      "cell_type": "markdown",
      "source": [
        "After performing the data cleaning and data visualization process. I have reached to some conclusion which are as below:\n",
        "*"
      ],
      "metadata": {
        "id": "Fjb1IsQkh3yE"
      }
    },
    {
      "cell_type": "markdown",
      "source": [
        "### ***Hurrah! You have successfully completed your EDA Capstone Project !!!***"
      ],
      "metadata": {
        "id": "gIfDvo9L0UH2"
      }
    }
  ]
}